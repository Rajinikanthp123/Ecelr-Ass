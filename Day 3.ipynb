{
 "cells": [
  {
   "cell_type": "code",
   "execution_count": 1,
   "id": "631e6e1f",
   "metadata": {},
   "outputs": [
    {
     "name": "stdout",
     "output_type": "stream",
     "text": [
      "Enter marks for subject 1: 60\n",
      "Enter marks for subject 2: 90\n",
      "Enter marks for subject 3: 80\n",
      "Grade: C\n"
     ]
    }
   ],
   "source": [
    "mark1 = float(input(\"Enter marks for subject 1: \"))\n",
    "mark2 = float(input(\"Enter marks for subject 2: \"))\n",
    "mark3 = float(input(\"Enter marks for subject 3: \"))\n",
    "average=(mark1+mark2+mark3)/3\n",
    "if average >= 90:\n",
    "    print(\"Grade: A\")\n",
    "elif 80 <= average < 90:\n",
    "    print(\"Grade: B\")\n",
    "elif 70 <= average < 80:\n",
    "    print(\"Grade: C\")\n",
    "else:\n",
    "    print(\"Grade: Fail\")"
   ]
  },
  {
   "cell_type": "code",
   "execution_count": null,
   "id": "3640817a",
   "metadata": {},
   "outputs": [],
   "source": []
  }
 ],
 "metadata": {
  "kernelspec": {
   "display_name": "Python 3 (ipykernel)",
   "language": "python",
   "name": "python3"
  },
  "language_info": {
   "codemirror_mode": {
    "name": "ipython",
    "version": 3
   },
   "file_extension": ".py",
   "mimetype": "text/x-python",
   "name": "python",
   "nbconvert_exporter": "python",
   "pygments_lexer": "ipython3",
   "version": "3.11.5"
  }
 },
 "nbformat": 4,
 "nbformat_minor": 5
}
