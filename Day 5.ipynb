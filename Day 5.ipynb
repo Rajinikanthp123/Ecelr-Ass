{
 "cells": [
  {
   "cell_type": "code",
   "execution_count": 2,
   "id": "a04e5424",
   "metadata": {},
   "outputs": [
    {
     "name": "stdout",
     "output_type": "stream",
     "text": [
      "'this':1\n",
      "'is':2\n",
      "'simple':1\n",
      "'text.this':1\n",
      "'text':1\n",
      "'for':1\n",
      "'testing.':1\n"
     ]
    }
   ],
   "source": [
    "def word_frequency(text):\n",
    "    words=text.lower().split()\n",
    "    word_count={}\n",
    "    for word in words:\n",
    "        word_count[word]=word_count.get(word,0)+1\n",
    "    for word,count in word_count.items():\n",
    "        print(f\"'{word}':{count}\")\n",
    "text=\" This is simple text.This is text for testing. \"\n",
    "word_frequency(text)"
   ]
  },
  {
   "cell_type": "code",
   "execution_count": null,
   "id": "8bfc498f",
   "metadata": {},
   "outputs": [],
   "source": []
  }
 ],
 "metadata": {
  "kernelspec": {
   "display_name": "Python 3 (ipykernel)",
   "language": "python",
   "name": "python3"
  },
  "language_info": {
   "codemirror_mode": {
    "name": "ipython",
    "version": 3
   },
   "file_extension": ".py",
   "mimetype": "text/x-python",
   "name": "python",
   "nbconvert_exporter": "python",
   "pygments_lexer": "ipython3",
   "version": "3.11.5"
  }
 },
 "nbformat": 4,
 "nbformat_minor": 5
}
